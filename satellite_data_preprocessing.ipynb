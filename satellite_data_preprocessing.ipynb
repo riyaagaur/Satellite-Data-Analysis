import os
import cv2
import numpy as np
from sklearn.model_selection import train_test_split

# Set dataset directory
dataset_dir = 'data/train/'

# Load images and labels
images = []
labels = []
for category in os.listdir(dataset_dir):
    category_path = os.path.join(dataset_dir, category)
    label = category
    for img_file in os.listdir(category_path):
        img_path = os.path.join(category_path, img_file)
        image = cv2.imread(img_path)
        image = cv2.resize(image, (128, 128))  # Resize to 128x128
        images.append(image)
        labels.append(label)

# Convert to numpy arrays
X = np.array(images)
y = np.array(labels)

# Normalize data
X = X / 255.0

# Split dataset
X_train, X_test, y_train, y_test = train_test_split(X, y, test_size=0.2, random_state=42)
