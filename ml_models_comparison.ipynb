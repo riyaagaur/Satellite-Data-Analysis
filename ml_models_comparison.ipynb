from sklearn.ensemble import RandomForestClassifier
from sklearn.svm import SVC
from sklearn.model_selection import cross_val_score
from sklearn.metrics import classification_report

# Flatten image data for traditional ML models
X_train_flat = X_train.reshape(X_train.shape[0], -1)
X_test_flat = X_test.reshape(X_test.shape[0], -1)

# Random Forest Classifier
rf_model = RandomForestClassifier()
rf_model.fit(X_train_flat, y_train)
rf_preds = rf_model.predict(X_test_flat)
print("Random Forest Accuracy:", accuracy_score(y_test, rf_preds))
print(classification_report(y_test, rf_preds))

# SVM Classifier
svm_model = SVC()
svm_model.fit(X_train_flat, y_train)
svm_preds = svm_model.predict(X_test_flat)
print("SVM Accuracy:", accuracy_score(y_test, svm_preds))
print(classification_report(y_test, svm_preds))

# Cross-validation score
cv_scores = cross_val_score(rf_model, X_train_flat, y_train, cv=5)
print(f"Random Forest Cross-Validation Scores: {cv_scores.mean()}")

# Save models
import joblib
joblib.dump(rf_model, 'models/random_forest_model.pkl')
joblib.dump(svm_model, 'models/svm_model.pkl')
